{
 "cells": [
  {
   "cell_type": "markdown",
   "id": "eb2d2518-1a98-41e1-be20-606db35daa80",
   "metadata": {},
   "source": [
    "### Dataset description\n",
    "link: https://archive.ics.uci.edu/dataset/275/bike+sharing+dataset"
   ]
  },
  {
   "cell_type": "code",
   "execution_count": null,
   "id": "8872b1ba-1a12-4a30-849a-b11735949737",
   "metadata": {},
   "outputs": [],
   "source": []
  }
 ],
 "metadata": {
  "kernelspec": {
   "display_name": "Python 3 (ipykernel)",
   "language": "python",
   "name": "python3"
  },
  "language_info": {
   "codemirror_mode": {
    "name": "ipython",
    "version": 3
   },
   "file_extension": ".py",
   "mimetype": "text/x-python",
   "name": "python",
   "nbconvert_exporter": "python",
   "pygments_lexer": "ipython3",
   "version": "3.12.0"
  }
 },
 "nbformat": 4,
 "nbformat_minor": 5
}
