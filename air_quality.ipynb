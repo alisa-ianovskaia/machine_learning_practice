{
 "cells": [
  {
   "cell_type": "markdown",
   "id": "f39088cc-0389-4f6a-9995-5eddda5434d8",
   "metadata": {},
   "source": [
    "### Dataset description\n",
    "link: https://archive.ics.uci.edu/ml/datasets/Air+Quality\n",
    "\n",
    "*The dataset contains 9358 instances of hourly averaged responses from an array of 5 chemical sensors, located on in a significantly polluted area.*\n"
   ]
  },
  {
   "cell_type": "code",
   "execution_count": null,
   "id": "5cb39716-bb06-457e-948b-2a37fff10914",
   "metadata": {},
   "outputs": [],
   "source": []
  }
 ],
 "metadata": {
  "kernelspec": {
   "display_name": "Python 3 (ipykernel)",
   "language": "python",
   "name": "python3"
  },
  "language_info": {
   "codemirror_mode": {
    "name": "ipython",
    "version": 3
   },
   "file_extension": ".py",
   "mimetype": "text/x-python",
   "name": "python",
   "nbconvert_exporter": "python",
   "pygments_lexer": "ipython3",
   "version": "3.12.0"
  }
 },
 "nbformat": 4,
 "nbformat_minor": 5
}
