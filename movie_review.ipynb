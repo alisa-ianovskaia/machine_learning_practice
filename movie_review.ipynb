{
 "cells": [
  {
   "cell_type": "markdown",
   "id": "566daad2-d129-4156-8fb8-4beaa9edd34d",
   "metadata": {},
   "source": [
    "### Dataset description\n",
    "\n",
    "*This is a dataset for binary sentiment classification of about 50,000 highly polar movie reviews.*\n",
    "\n",
    "link: https://ai.stanford.edu/~amaas/data/sentiment/"
   ]
  },
  {
   "cell_type": "markdown",
   "id": "784900d7-baa3-4ae3-ae0e-9821f0c6a1b2",
   "metadata": {
    "jp-MarkdownHeadingCollapsed": true
   },
   "source": [
    "### Notebook overview\n"
   ]
  },
  {
   "cell_type": "markdown",
   "id": "0ada60f0-22ce-4a0d-87ff-9b176220940e",
   "metadata": {},
   "source": [
    "### Imports and auxiliary functions"
   ]
  },
  {
   "cell_type": "code",
   "execution_count": 3,
   "id": "83f523a0-d803-4378-bd12-e781cb35e125",
   "metadata": {},
   "outputs": [],
   "source": [
    "# imports\n",
    "\n",
    "import pandas as pd\n",
    "import numpy as np\n",
    "import re\n",
    "\n",
    "\n",
    "import warnings\n",
    "warnings.filterwarnings(\"ignore\")"
   ]
  },
  {
   "cell_type": "code",
   "execution_count": null,
   "id": "474c110d-0e1b-4865-ab5d-5aed29741b2c",
   "metadata": {},
   "outputs": [],
   "source": []
  }
 ],
 "metadata": {
  "kernelspec": {
   "display_name": "Python 3 (ipykernel)",
   "language": "python",
   "name": "python3"
  },
  "language_info": {
   "codemirror_mode": {
    "name": "ipython",
    "version": 3
   },
   "file_extension": ".py",
   "mimetype": "text/x-python",
   "name": "python",
   "nbconvert_exporter": "python",
   "pygments_lexer": "ipython3",
   "version": "3.12.0"
  }
 },
 "nbformat": 4,
 "nbformat_minor": 5
}
